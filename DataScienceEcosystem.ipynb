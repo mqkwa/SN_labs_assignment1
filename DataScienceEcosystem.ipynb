{
 "cells": [
  {
   "cell_type": "markdown",
   "id": "c5b17a80-fcd3-4492-9738-a851b9edcec5",
   "metadata": {},
   "source": [
    "# Data Science Tools and Ecosystem"
   ]
  },
  {
   "cell_type": "markdown",
   "id": "df327fa3-0967-4b82-ac5c-0a5ce8322edd",
   "metadata": {},
   "source": [
    "## In this notebook, Data Science Tools and Ecosystem are summarized."
   ]
  },
  {
   "cell_type": "markdown",
   "id": "361ad5e0-41fb-46fd-a9b8-d4ddf7ed92e4",
   "metadata": {},
   "source": [
    "### Some of the popular languages that Data Scientists use are:"
   ]
  },
  {
   "cell_type": "markdown",
   "id": "1a322b71-4586-4a9d-a8b2-664cea155ef0",
   "metadata": {},
   "source": [
    "1. Python\n",
    "2. R\n",
    "3. SQL\n",
    "4. Java\n",
    "5. Ruby"
   ]
  },
  {
   "cell_type": "markdown",
   "id": "816121d7-2026-4b03-bce0-757ea0f02a6c",
   "metadata": {},
   "source": [
    "### Some of the commonly used libraries used by Data Scientists include:"
   ]
  },
  {
   "cell_type": "markdown",
   "id": "4fdaf3e2-7a0b-4f4a-af4a-34dafc277b2b",
   "metadata": {},
   "source": [
    "1. matplotlib\n",
    "2. pandas\n",
    "3. scikitlearn"
   ]
  },
  {
   "cell_type": "markdown",
   "id": "2bf95fcf-12ff-4b61-b7ba-afa2b5ead678",
   "metadata": {},
   "source": [
    "|Data Science Tools|\n",
    "|------------------|\n",
    "|1. Jupyter Notebook|\n",
    "|2. RStudio|\n",
    "|1. Apache Spark|"
   ]
  },
  {
   "cell_type": "markdown",
   "id": "9b03007a-c091-4506-8503-9d07ee29d9b8",
   "metadata": {},
   "source": [
    "### Below are a few examples of evaluating arithmetic expressions in Python"
   ]
  },
  {
   "cell_type": "code",
   "execution_count": 1,
   "id": "c7022aa0-86d5-4fe6-a739-17c3ab1bc0ba",
   "metadata": {
    "tags": []
   },
   "outputs": [
    {
     "data": {
      "text/plain": [
       "17"
      ]
     },
     "execution_count": 1,
     "metadata": {},
     "output_type": "execute_result"
    }
   ],
   "source": [
    "#  This a simple arithmetic expression to mutiply then add integers\n",
    "(3*4)+5"
   ]
  },
  {
   "cell_type": "code",
   "execution_count": 2,
   "id": "e8cb9bb8-35c2-4c39-82d2-89ba5efae9bd",
   "metadata": {
    "tags": []
   },
   "outputs": [
    {
     "data": {
      "text/plain": [
       "3.3333333333333335"
      ]
     },
     "execution_count": 2,
     "metadata": {},
     "output_type": "execute_result"
    }
   ],
   "source": [
    "# This will convert 200 minutes to hours by dividing by 60\n",
    "200/60"
   ]
  },
  {
   "cell_type": "markdown",
   "id": "ee03cb00-190f-4caf-b46b-ae7d38b1cdf8",
   "metadata": {},
   "source": [
    "**Objectives**\n",
    "- List popular languages for Data Science\n",
    "- List popular tools for Data Science\n",
    "- Arithmetic expressions"
   ]
  },
  {
   "cell_type": "markdown",
   "id": "4ffdc9e2-5b43-424b-86e8-e400f7da7b67",
   "metadata": {},
   "source": [
    "## Author \n",
    "Mei"
   ]
  },
  {
   "cell_type": "code",
   "execution_count": null,
   "id": "38a3bb6c-2e44-4168-ad06-bd81c2468751",
   "metadata": {},
   "outputs": [],
   "source": []
  }
 ],
 "metadata": {
  "kernelspec": {
   "display_name": "Python",
   "language": "python",
   "name": "conda-env-python-py"
  },
  "language_info": {
   "codemirror_mode": {
    "name": "ipython",
    "version": 3
   },
   "file_extension": ".py",
   "mimetype": "text/x-python",
   "name": "python",
   "nbconvert_exporter": "python",
   "pygments_lexer": "ipython3",
   "version": "3.7.12"
  }
 },
 "nbformat": 4,
 "nbformat_minor": 5
}
